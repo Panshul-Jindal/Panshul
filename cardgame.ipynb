{
 "cells": [
  {
   "cell_type": "markdown",
   "metadata": {},
   "source": [
    "#Credit :-https://thecleverprogrammer.com/2020/10/04/card-game-with-python/ \n",
    "# Card Game:\n",
    " each player draws a card from the deck and the player with the highest card wins. "
   ]
  },
  {
   "cell_type": "markdown",
   "metadata": {},
   "source": [
    "### Class Card\n",
    "Represents Card and all it comparisions"
   ]
  },
  {
   "cell_type": "code",
   "execution_count": 13,
   "metadata": {},
   "outputs": [],
   "source": [
    "class Card:\n",
    "    suits = [\"spades\",\n",
    "             \"hearts\",\n",
    "             \"diamonds\",\n",
    "             \"clubs\"]\n",
    "    \n",
    "    values =[None, None,\"2\", \"3\",\n",
    "              \"4\", \"5\", \"6\", \"7\",\n",
    "              \"8\", \"9\", \"10\",\n",
    "              \"Jack\", \"Queen\",\n",
    "              \"King\", \"Ace\"]\n",
    "    def __init__(self,suit,value):\n",
    "        self.value = value\n",
    "        self.suit = suit\n",
    "    \n",
    "    def __gt__(self,other):\n",
    "        if((self.value > other.value )|(self.value == other.value )& (self.suit > other.suit)):\n",
    "            return True\n",
    "        else:\n",
    "            return False\n",
    "    def __lt__(self,other):\n",
    "                \n",
    "                if((self.value < other.value) | (self.value == other.value )& (self.suit < other.suit)):\n",
    "                    return True\n",
    "                else:\n",
    "                    return False    \n",
    "\n",
    "    def __repr__(self):\n",
    "        return(f'{self.value} of  {self.suit}')\n",
    "    \n",
    "    "
   ]
  },
  {
   "cell_type": "markdown",
   "metadata": {},
   "source": [
    "### Class Deck\n",
    "* represent the deck of Class \n",
    "    * Randomly arranged 52 cards\n",
    "    * fn to remove the card\n",
    "            -till the deck becomes empty\n",
    "    \n"
   ]
  },
  {
   "cell_type": "code",
   "execution_count": 15,
   "metadata": {},
   "outputs": [],
   "source": [
    "from random import shuffle\n",
    "class Deck:\n",
    "    def __init__(self):\n",
    "        self.cards=[]\n",
    "        for i in range(4):\n",
    "            for j in range(2,15):\n",
    "                self.cards.append(Card(i,j))\n",
    "        shuffle(self.cards)\n",
    "    def rm_card(self):\n",
    "        if self.cards == []:\n",
    "            return \n",
    "        return self.cards.pop()\n",
    "    "
   ]
  },
  {
   "cell_type": "markdown",
   "metadata": {},
   "source": [
    "### Class Player\n",
    "EAch Player -Number of Wins , Its card , and its name"
   ]
  },
  {
   "cell_type": "code",
   "execution_count": null,
   "metadata": {},
   "outputs": [],
   "source": [
    "class Player:\n",
    "    def __init__(self,name):\n",
    "        self.name=name\n",
    "        self.wins=None\n",
    "        self.card=None"
   ]
  },
  {
   "cell_type": "markdown",
   "metadata": {},
   "source": [
    "### Class Game\n",
    "Strucuture of Game:\n",
    "Basics:- Initialsiation Part\n",
    "    Create Two Players by taking input of two players\n",
    "    Initalise the deck and yeah good to go \n",
    "\n",
    "\n",
    "Two Players will keeps picking till the no of card reaminaing is 2\n",
    "At every pick dipslay option to continue or play\n",
    "            And display that particular game i.e which player took which card ..\n",
    "            Add to win bank of each player\n",
    "if At the end of game Player with more number of wins , wins the game"
   ]
  },
  {
   "cell_type": "code",
   "execution_count": 18,
   "metadata": {},
   "outputs": [],
   "source": [
    "\n",
    "class Game:\n",
    "    def __init__(self):\n",
    "        print('Welcome to the game of Cards')\n",
    "        self.p1=Player(input('Enter the name of Player 1 '))\n",
    "        self.p2=Player(input('Enter the name of Player 2 '))\n",
    "        self.deck = Deck()\n",
    "    def drew(self,p1c,p2c):\n",
    "        print(f'{self.p1.name } drew {p1c}  {self.p2.name} drew {p2c}')\n",
    "    def wins(self,winner):\n",
    "        print(f'{winner} wins this round')\n",
    "    \n",
    "    def game_time(self):\n",
    "        cards = self.deck.cards\n",
    "        while len(cards) >=2 :\n",
    "            print('Let the Game War Begin')\n",
    "            ch = input('Enter \\'c\\' to continue and \\'q\\' to quit playing ' )\n",
    "            if ch== 'q':\n",
    "                break\n",
    "            p1c=self.Deck.rm_card()\n",
    "            p2c=self.Deck.rm_card()\n",
    "            self.drew(p1c,p2c)\n",
    "            if p1c > p2c:\n",
    "                self.p1.wins +=1\n",
    "                self.wins(self.p1.name)\n",
    "            if p2c > p1c:\n",
    "                self.p2.wins +=1\n",
    "                self.wins(self.p2.name)\n",
    "                \n",
    "        if self.p1.wins > self.p2.wins:\n",
    "            print(f'Player 1 :- {self.p1.name} Won')\n",
    "        elif self.p2.wins > self.p1.wins:\n",
    "            print(f'Player 2 :- {self.p2.name} Won')\n",
    "        else:\n",
    "            print(f'{self.p1.name} Drew with {self.p2.name}')\n",
    "\n",
    "\n",
    "\n"
   ]
  },
  {
   "cell_type": "markdown",
   "metadata": {},
   "source": [
    "# Complete Card Game"
   ]
  },
  {
   "cell_type": "code",
   "execution_count": 19,
   "metadata": {},
   "outputs": [
    {
     "name": "stdout",
     "output_type": "stream",
     "text": [
      "Welcome to the game of Cards\n"
     ]
    }
   ],
   "source": [
    "\n",
    "from random import shuffle\n",
    "class Deck:\n",
    "    def __init__(self):\n",
    "        self.cards=[]\n",
    "        for i in range(4):\n",
    "            for j in range(2,15):\n",
    "                self.cards.append(Card(i,j))\n",
    "        shuffle(self.cards)\n",
    "    def rm_card(self):\n",
    "        if self.cards == []:\n",
    "            return \n",
    "        return self.cards.pop()\n",
    "class Card:\n",
    "    suits = [\"spades\",\n",
    "             \"hearts\",\n",
    "             \"diamonds\",\n",
    "             \"clubs\"]\n",
    "    \n",
    "    values =[None, None,\"2\", \"3\",\n",
    "              \"4\", \"5\", \"6\", \"7\",\n",
    "              \"8\", \"9\", \"10\",\n",
    "              \"Jack\", \"Queen\",\n",
    "              \"King\", \"Ace\"]\n",
    "    def __init__(self,suit,value):\n",
    "        self.value = value\n",
    "        self.suit = suit\n",
    "    \n",
    "    def __gt__(self,other):\n",
    "        if((self.value > other.value )|(self.value == other.value )& (self.suit > other.suit)):\n",
    "            return True\n",
    "        else:\n",
    "            return False\n",
    "    def __lt__(self,other):\n",
    "                \n",
    "                if((self.value < other.value) | (self.value == other.value )& (self.suit < other.suit)):\n",
    "                    return True\n",
    "                else:\n",
    "                    return False    \n",
    "\n",
    "    def __repr__(self):\n",
    "        return(f'{self.values[self.value]} of  {self.suits[self.suit]}')\n",
    "class Player:\n",
    "    def __init__(self,name):\n",
    "        self.name=name\n",
    "        self.wins=0\n",
    "        self.card=None\n",
    "\n",
    "class Game:\n",
    "    def __init__(self):\n",
    "        print('Welcome to the game of Cards')\n",
    "        self.p1=Player(input('Enter the name of Player 1 '))\n",
    "        self.p2=Player(input('Enter the name of Player 2 '))\n",
    "        self.deck = Deck()\n",
    "    def drew(self):\n",
    "        print(f'{self.p1.name } drew {self.p1.card}  {self.p2.name} drew {self.p2.card}')\n",
    "    def wins(self,winner):\n",
    "        print(f'{winner} wins this round')\n",
    "    \n",
    "    def game_time(self):\n",
    "        cards = self.deck.cards\n",
    "        while len(cards) >=2 :\n",
    "            print('Let the Game War Begin')\n",
    "            ch = input('Enter \\'c\\' to continue and \\'q\\' to quit playing ' )\n",
    "            if ch== 'q':\n",
    "                break\n",
    "            self.p1.card=self.deck.rm_card()\n",
    "            self.p2.card=self.deck.rm_card()\n",
    "            self.drew()\n",
    "            if self.p1.card > self.p2.card:\n",
    "                self.p1.wins +=1\n",
    "                self.wins(self.p1.name)\n",
    "            else :\n",
    "                self.p2.wins +=1\n",
    "                self.wins(self.p2.name)\n",
    "        \n",
    "        print(f'Score :- ({self.p1.wins},{self.p2.wins})')\n",
    "        if self.p1.wins > self.p2.wins:\n",
    "            print(f'Player 1 :- {self.p1.name} Won')\n",
    "        elif self.p2.wins > self.p1.wins:\n",
    "            print(f'Player 2 :- {self.p2.name} Won')\n",
    "        else:\n",
    "            print(f'{self.p1.name} Drew with {self.p2.name}')\n",
    "        \n",
    "\n",
    "\n",
    "\n",
    "if __name__ == \"__main__\":\n",
    "    cardgame=Game()\n",
    "    cardgame.game_time()\n"
   ]
  }
 ],
 "metadata": {
  "kernelspec": {
   "display_name": "Python 3",
   "language": "python",
   "name": "python3"
  },
  "language_info": {
   "codemirror_mode": {
    "name": "ipython",
    "version": 3
   },
   "file_extension": ".py",
   "mimetype": "text/x-python",
   "name": "python",
   "nbconvert_exporter": "python",
   "pygments_lexer": "ipython3",
   "version": "3.11.8"
  }
 },
 "nbformat": 4,
 "nbformat_minor": 2
}
